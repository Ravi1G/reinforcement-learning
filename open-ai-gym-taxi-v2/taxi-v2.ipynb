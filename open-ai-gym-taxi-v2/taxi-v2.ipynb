{
 "cells": [
  {
   "cell_type": "code",
   "execution_count": 35,
   "metadata": {},
   "outputs": [],
   "source": [
    "import numpy as np\n",
    "from collections import defaultdict\n",
    "\n",
    "class Agent:\n",
    "\n",
    "    def __init__(self, nA, control='Sarsa', alpha=0.25, gamma=1, epsilon=0.001):\n",
    "        \"\"\" Initialize agent.\n",
    "\n",
    "        Params\n",
    "        ======\n",
    "        - nA: number of actions available to the agent\n",
    "        - control: control algorithm: Sarsa, Sarsamax, or Expected-Sarsa\n",
    "        - alpha: alpha value\n",
    "        - gamma: gamma value\n",
    "        - epsilon: epsilon value\n",
    "        \"\"\"\n",
    "        self.nA = nA\n",
    "        self.control = control\n",
    "        self.alpha = alpha\n",
    "        self.gamma = gamma\n",
    "        self.epsilon = epsilon\n",
    "        self.Q = defaultdict(lambda: np.zeros(self.nA))\n",
    "        \n",
    "    def __get_probs(self, state):\n",
    "        epsilon = self.epsilon if state in self.Q else 1\n",
    "        probs = np.ones(self.nA) * epsilon / self.nA\n",
    "        best_a = np.argmax(self.Q[state])\n",
    "        probs[best_a] = 1 - epsilon + epsilon / self.nA\n",
    "        return probs\n",
    "\n",
    "    def __sarsa(self, state, action, next_state):\n",
    "        next_action = self.select_action(state)\n",
    "        return self.Q[next_state][next_action]\n",
    "\n",
    "    def __sarsa_max(self, state, action, next_state):\n",
    "        next_action = np.argmax(self.Q[state])\n",
    "        return self.Q[next_state][next_action]\n",
    "        \n",
    "    def __exp_sarsa(self, state, action, next_state):\n",
    "        probs = self.__get_probs(state)\n",
    "        expected_sarsa = 0\n",
    "        for next_action in range(self.nA):\n",
    "            expected_sarsa += probs[next_action] * self.Q[next_state][next_action]\n",
    "        return expected_sarsa\n",
    "    \n",
    "    def __udpate_epsilon(self, i_episode):\n",
    "        #self.epsilon = 1 /((i_episode/8000)+1)\n",
    "        self.epsilon = 1 / i_episode\n",
    "    \n",
    "    def select_action(self, state):\n",
    "        \"\"\" Given the state, select an action.\n",
    "\n",
    "        Params\n",
    "        ======\n",
    "        - state: the current state of the environment\n",
    "        \n",
    "        Returns\n",
    "        =======\n",
    "        - action: an integer, compatible with the task's action space\n",
    "        \"\"\"\n",
    "        return np.random.choice(np.arange(self.nA), p=self.__get_probs(state))\n",
    "      \n",
    "    def step(self, state, action, reward, next_state, done, i_episode):\n",
    "        \"\"\" Update the agent's knowledge, using the most recently sampled tuple.\n",
    "\n",
    "        Params\n",
    "        ======\n",
    "        - state: the previous state of the environment\n",
    "        - action: the agent's previous choice of action\n",
    "        - reward: last reward received\n",
    "        - next_state: the current state of the environment\n",
    "        - done: whether the episode is complete (True or False)\n",
    "        - i_episode: number of episode\n",
    "        \"\"\"\n",
    "        # update epsilon\n",
    "        self.__udpate_epsilon(i_episode)\n",
    "        \n",
    "        update_val = 0\n",
    "        if self.control == 'Sarsa':\n",
    "            update_val = self.__sarsa(state, action, next_state)\n",
    "        elif self.control == 'Sarsamax':\n",
    "            update_val = self.__sarsa_max(state, action, next_state)\n",
    "        elif self.control == 'Expected-Sarsa':\n",
    "            update_val = self.__exp_sarsa(state, action, next_state)\n",
    "        \n",
    "        old_val = self.Q[state][action]\n",
    "        self.Q[state][action] = old_val + self.alpha * (reward + self.gamma * update_val - old_val)"
   ]
  },
  {
   "cell_type": "code",
   "execution_count": 36,
   "metadata": {
    "slideshow": {
     "slide_type": "notes"
    }
   },
   "outputs": [],
   "source": [
    "from monitor import interact\n",
    "import gym\n",
    "import numpy as np\n",
    "\n",
    "env = gym.make('Taxi-v2')\n",
    "nA = env.action_space.n\n",
    "num_episodes = 20000\n",
    "window = 100"
   ]
  },
  {
   "cell_type": "code",
   "execution_count": 31,
   "metadata": {},
   "outputs": [
    {
     "name": "stdout",
     "output_type": "stream",
     "text": [
      "Episode 20000/20000 || Best average reward 9.426\n",
      "\n"
     ]
    }
   ],
   "source": [
    "sarsa_agent = Agent(nA, 'Sarsa')\n",
    "sarsa_avg_rewards, sarsa_best_avg_reward = interact(env, sarsa_agent, num_episodes, window)"
   ]
  },
  {
   "cell_type": "code",
   "execution_count": 32,
   "metadata": {},
   "outputs": [
    {
     "name": "stdout",
     "output_type": "stream",
     "text": [
      "Episode 20000/20000 || Best average reward 9.392\n",
      "\n"
     ]
    }
   ],
   "source": [
    "sarsa_max_agent = Agent(nA, 'Sarsamax')\n",
    "sarsa_max_avg_rewards, sarsa_max_best_avg_reward = interact(env, sarsa_max_agent, num_episodes, window)"
   ]
  },
  {
   "cell_type": "code",
   "execution_count": 37,
   "metadata": {},
   "outputs": [
    {
     "name": "stdout",
     "output_type": "stream",
     "text": [
      "Episode 20000/20000 || Best average reward 9.247\n",
      "\n"
     ]
    }
   ],
   "source": [
    "exp_sarsa_agent = Agent(nA, 'Expected-Sarsa')\n",
    "exp_sarsa_rewards, exp_sarsa_avg_reward = interact(env, exp_sarsa_agent, num_episodes, window)"
   ]
  },
  {
   "cell_type": "code",
   "execution_count": 38,
   "metadata": {},
   "outputs": [
    {
     "data": {
      "image/png": "[encoded data removed]",
      "text/plain": [
       "<Figure size 432x288 with 1 Axes>"
      ]
     },
     "metadata": {},
     "output_type": "display_data"
    }
   ],
   "source": [
    "import matplotlib.pyplot as plt\n",
    "%matplotlib inline\n",
    "\n",
    "x = np.linspace(0, num_episodes, len(sarsa_avg_rewards), endpoint=False)\n",
    "plt.plot(x, np.asarray(sarsa_avg_rewards))\n",
    "plt.plot(x, np.asarray(sarsa_max_avg_rewards))\n",
    "plt.plot(x, np.asarray(exp_sarsa_rewards))\n",
    "\n",
    "plt.xlabel('Episode Number')\n",
    "plt.ylabel('Average Reward (Over Next %d Episodes)' % window)\n",
    "plt.legend(['Sarsa', 'Sarsamax', 'Exp. Sarsa'], loc='lower right')\n",
    "\n",
    "plt.show()"
   ]
  },
  {
   "cell_type": "code",
   "execution_count": null,
   "metadata": {},
   "outputs": [],
   "source": []
  }
 ],
 "metadata": {
  "kernelspec": {
   "display_name": "Python [default]",
   "language": "python",
   "name": "python3"
  },
  "language_info": {
   "codemirror_mode": {
    "name": "ipython",
    "version": 3
   },
   "file_extension": ".py",
   "mimetype": "text/x-python",
   "name": "python",
   "nbconvert_exporter": "python",
   "pygments_lexer": "ipython3",
   "version": "3.6.4"
  }
 },
 "nbformat": 4,
 "nbformat_minor": 2
}
