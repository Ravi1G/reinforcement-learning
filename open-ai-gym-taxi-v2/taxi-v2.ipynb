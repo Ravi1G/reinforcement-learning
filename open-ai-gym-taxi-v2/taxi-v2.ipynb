{
 "cells": [
  {
   "cell_type": "code",
   "execution_count": 1,
   "metadata": {},
   "outputs": [],
   "source": [
    "import numpy as np\n",
    "from collections import defaultdict\n",
    "\n",
    "class Agent:\n",
    "\n",
    "    def __init__(self, nA, control='Sarsa', alpha=0.01, gamma=1, epsilon=0.005):\n",
    "        \"\"\" Initialize agent.\n",
    "\n",
    "        Params\n",
    "        ======\n",
    "        - nA: number of actions available to the agent\n",
    "        \"\"\"\n",
    "        self.nA = nA\n",
    "        self.control = control\n",
    "        self.alpha = alpha\n",
    "        self.gamma = gamma\n",
    "        self.epsilon = epsilon\n",
    "        self.Q = defaultdict(lambda: np.zeros(self.nA))\n",
    "        \n",
    "    def __get_probs(self, state):\n",
    "        if state in self.Q:\n",
    "            probs = np.ones(self.nA) * self.epsilon / self.nA\n",
    "            best_a = np.argmax(self.Q[state])\n",
    "            probs[best_a] = 1 - self.epsilon + self.epsilon / self.nA\n",
    "            return probs\n",
    "        else:\n",
    "            return np.ones(self.nA) / self.nA\n",
    "    \n",
    "    def __sarsa(self, state, action, reward, next_state, done):\n",
    "        next_action = self.select_action(state)\n",
    "        old_val = self.Q[state][action]\n",
    "        self.Q[state][action] = old_val + self.alpha * (reward + self.gamma * self.Q[next_state][next_action] - old_val)\n",
    "\n",
    "    def __sarsa_max(self, state, action, reward, next_state, done):\n",
    "        next_action = np.argmax(self.Q[state])\n",
    "        old_val = self.Q[state][action]\n",
    "        self.Q[state][action] = old_val + self.alpha * (reward + self.gamma * self.Q[next_state][next_action] - old_val)\n",
    "        \n",
    "    def __exp_sarsa(self, state, action, reward, next_state, done):\n",
    "        probs = self.__get_probs(state)\n",
    "        expected_sarsa = 0\n",
    "        for next_action in range(self.nA):\n",
    "            expected_sarsa += probs[next_action] * self.Q[next_state][next_action]\n",
    "        \n",
    "        old_val = self.Q[state][action]\n",
    "        self.Q[state][action] = old_val + self.alpha * (reward + self.gamma * expected_sarsa - old_val)\n",
    "    \n",
    "    def select_action(self, state):\n",
    "        \"\"\" Given the state, select an action.\n",
    "\n",
    "        Params\n",
    "        ======\n",
    "        - state: the current state of the environment\n",
    "\n",
    "        Returns\n",
    "        =======\n",
    "        - action: an integer, compatible with the task's action space\n",
    "        \"\"\"\n",
    "        return np.random.choice(np.arange(self.nA), p=self.__get_probs(state))\n",
    "      \n",
    "    def step(self, state, action, reward, next_state, done):\n",
    "        \"\"\" Update the agent's knowledge, using the most recently sampled tuple.\n",
    "\n",
    "        Params\n",
    "        ======\n",
    "        - state: the previous state of the environment\n",
    "        - action: the agent's previous choice of action\n",
    "        - reward: last reward received\n",
    "        - next_state: the current state of the environment\n",
    "        - done: whether the episode is complete (True or False)\n",
    "        \"\"\"\n",
    "        if self.control == 'Sarsa':\n",
    "            return self.__sarsa(state, action, reward, next_state, done)\n",
    "        elif self.control == 'Sarsamax':\n",
    "            return self.__sarsa_max(state, action, reward, next_state, done)\n",
    "        elif self.control == 'Expected-Sarsa':\n",
    "            return self.__exp_sarsa(state, action, reward, next_state, done)"
   ]
  },
  {
   "cell_type": "code",
   "execution_count": 3,
   "metadata": {
    "slideshow": {
     "slide_type": "notes"
    }
   },
   "outputs": [],
   "source": [
    "from monitor import interact\n",
    "import gym\n",
    "import numpy as np\n",
    "\n",
    "env = gym.make('Taxi-v2')\n",
    "nA = env.action_space.n\n",
    "num_episodes = 20000\n",
    "window = 100"
   ]
  },
  {
   "cell_type": "code",
   "execution_count": 4,
   "metadata": {},
   "outputs": [
    {
     "name": "stdout",
     "output_type": "stream",
     "text": [
      "Episode 20000/20000 || Best average reward -6.531\n",
      "\n"
     ]
    }
   ],
   "source": [
    "sarsa_agent = Agent(nA, 'Sarsa')\n",
    "sarsa_avg_rewards, sarsa_best_avg_reward = interact(env, sarsa_agent, num_episodes, window)"
   ]
  },
  {
   "cell_type": "code",
   "execution_count": 5,
   "metadata": {},
   "outputs": [
    {
     "name": "stdout",
     "output_type": "stream",
     "text": [
      "Episode 20000/20000 || Best average reward -5.642\n",
      "\n"
     ]
    }
   ],
   "source": [
    "sarsa_max_agent = Agent(nA, 'Sarsamax')\n",
    "sarsa_max_avg_rewards, sarsa_max_best_avg_reward = interact(env, sarsa_max_agent, num_episodes, window)"
   ]
  },
  {
   "cell_type": "code",
   "execution_count": 6,
   "metadata": {},
   "outputs": [
    {
     "name": "stdout",
     "output_type": "stream",
     "text": [
      "Episode 20000/20000 || Best average reward -6.373\n",
      "\n"
     ]
    }
   ],
   "source": [
    "exp_sarsa_agent = Agent(nA, 'Expected-Sarsa')\n",
    "exp_sarsa_rewards, exp_sarsa_avg_reward = interact(env, exp_sarsa_agent, num_episodes, window)"
   ]
  },
  {
   "cell_type": "code",
   "execution_count": 10,
   "metadata": {},
   "outputs": [
    {
     "data": {
      "image/png": "[encoded data removed]",
      "text/plain": [
       "<Figure size 432x288 with 1 Axes>"
      ]
     },
     "metadata": {},
     "output_type": "display_data"
    }
   ],
   "source": [
    "import matplotlib.pyplot as plt\n",
    "%matplotlib inline\n",
    "\n",
    "x = np.linspace(0, num_episodes, len(sarsa_avg_rewards), endpoint=False)\n",
    "plt.plot(x, np.asarray(sarsa_avg_rewards))\n",
    "plt.plot(x, np.asarray(sarsa_max_avg_rewards))\n",
    "plt.plot(x, np.asarray(exp_sarsa_rewards))\n",
    "\n",
    "plt.xlabel('Episode Number')\n",
    "plt.ylabel('Average Reward (Over Next %d Episodes)' % window)\n",
    "plt.legend(['Sarsa', 'Sarsamax', 'Exp. Sarsa'], loc='lower right')\n",
    "\n",
    "plt.show()"
   ]
  },
  {
   "cell_type": "code",
   "execution_count": null,
   "metadata": {},
   "outputs": [],
   "source": []
  }
 ],
 "metadata": {
  "kernelspec": {
   "display_name": "Python [default]",
   "language": "python",
   "name": "python3"
  },
  "language_info": {
   "codemirror_mode": {
    "name": "ipython",
    "version": 3
   },
   "file_extension": ".py",
   "mimetype": "text/x-python",
   "name": "python",
   "nbconvert_exporter": "python",
   "pygments_lexer": "ipython3",
   "version": "3.6.4"
  }
 },
 "nbformat": 4,
 "nbformat_minor": 2
}
